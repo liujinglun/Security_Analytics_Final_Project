{
 "cells": [
  {
   "cell_type": "code",
   "execution_count": null,
   "metadata": {
    "collapsed": true
   },
   "outputs": [],
   "source": [
    "'''\n",
    "access token,\n",
    "access tojen secret,\n",
    "consumer key(API key):7GMyjy5A20WyhVw7KM4yTZQw2\n",
    "Consumer Secret (API Secret):gToDHMwoJaiaXUkRE7eth7uWvcjpjBvGxjxTWkJARJsdTRYqcy\n",
    "'''\n",
    "twitter = Twitter(auth=OAuth(\"776468987907547136-3JlUa5JhVmMqEjAtWbZeKAirYDM1P5R\",\n",
    "                             \"XKl172qKv5x4cJNGvHu1bisGTBpimFXi0zhuA9XLiyaym\",\n",
    "                             \"7GMyjy5A20WyhVw7KM4yTZQw2\",\n",
    "                             \"gToDHMwoJaiaXUkRE7eth7uWvcjpjBvGxjxTWkJARJsdTRYqcy\"))\n",
    "\n",
    "query = twitter.search.tweets(q=\"#Islamic_State\", count = \"100\")\n",
    "#print query\n",
    "#print \"time:%.3f second\" % query['search_metadata']['completed_in']\n",
    "i=0\n",
    "\n",
    "for result in query[\"statuses\"]:\n",
    "    tweet_text = result['text']\n",
    "    #print \"(%s) @%s %s\" % (result[\"created_at\"], result[\"user\"][\"screen_name\"], result[\"text\"])\n",
    "    tweet_text = unicodedata.normalize('NFKD', tweet_text).encode('ascii','ignore')\n",
    "    #print i, '%s' %tweet_text\n",
    "    collect.append(tweet_text)\n",
    "    #print type(result['text'])\n",
    "    i+=1"
   ]
  }
 ],
 "metadata": {
  "kernelspec": {
   "display_name": "Python 2",
   "language": "python",
   "name": "python2"
  },
  "language_info": {
   "codemirror_mode": {
    "name": "ipython",
    "version": 2
   },
   "file_extension": ".py",
   "mimetype": "text/x-python",
   "name": "python",
   "nbconvert_exporter": "python",
   "pygments_lexer": "ipython2",
   "version": "2.7.12"
  }
 },
 "nbformat": 4,
 "nbformat_minor": 0
}
